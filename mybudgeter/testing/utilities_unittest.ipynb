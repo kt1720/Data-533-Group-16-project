{
 "cells": [
  {
   "cell_type": "code",
   "execution_count": 12,
   "metadata": {},
   "outputs": [
    {
     "name": "stderr",
     "output_type": "stream",
     "text": [
      "test_average (__main__.users_unittest.test_average) ... ERROR\n",
      "test_total (__main__.users_unittest.test_total) ... ERROR\n",
      "\n",
      "======================================================================\n",
      "ERROR: test_average (__main__.users_unittest.test_average)\n",
      "----------------------------------------------------------------------\n",
      "Traceback (most recent call last):\n",
      "  File \"/var/folders/37/64df_33d13jdmmdy_f16_cd40000gn/T/ipykernel_14971/2161646008.py\", line 17, in test_average\n",
      "    self.assertEqual(self.user.average(), 24)\n",
      "                     ^^^^^^^^^^^^^^^^^^^\n",
      "  File \"/Users/KyleDeng/Library/CloudStorage/OneDrive-UBC/MDS_Block3/DATA-533/Data-533-Group-16-project/mybudgeter/utilities/users.py\", line 53, in average\n",
      "    average = getattr(self, type).cur.fetchone()[0]\n",
      "              ~~~~~~~~~~~~~~~~~~~~~~~~~~~~~~~~~~^^^\n",
      "TypeError: 'NoneType' object is not subscriptable\n",
      "\n",
      "======================================================================\n",
      "ERROR: test_total (__main__.users_unittest.test_total)\n",
      "----------------------------------------------------------------------\n",
      "Traceback (most recent call last):\n",
      "  File \"/var/folders/37/64df_33d13jdmmdy_f16_cd40000gn/T/ipykernel_14971/2161646008.py\", line 11, in test_total\n",
      "    self.assertEqual(self.user.total(), 105)\n",
      "                     ^^^^^^^^^^^^^^^^^\n",
      "  File \"/Users/KyleDeng/Library/CloudStorage/OneDrive-UBC/MDS_Block3/DATA-533/Data-533-Group-16-project/mybudgeter/utilities/users.py\", line 41, in total\n",
      "    total = getattr(self, type).cur.fetchone()[0]\n",
      "            ~~~~~~~~~~~~~~~~~~~~~~~~~~~~~~~~~~^^^\n",
      "TypeError: 'NoneType' object is not subscriptable\n",
      "\n",
      "----------------------------------------------------------------------\n",
      "Ran 2 tests in 0.003s\n",
      "\n",
      "FAILED (errors=2)\n"
     ]
    },
    {
     "name": "stdout",
     "output_type": "stream",
     "text": [
      "no such table: transactions\n",
      "no such table: transactions\n"
     ]
    },
    {
     "data": {
      "text/plain": [
       "<unittest.main.TestProgram at 0x1270dcbc0>"
      ]
     },
     "execution_count": 12,
     "metadata": {},
     "output_type": "execute_result"
    }
   ],
   "source": [
    "import os\n",
    "import datetime\n",
    "import unittest\n",
    "from utilities import users\n",
    "%reload_ext autoreload\n",
    "%autoreload 2\n",
    "\n",
    "class users_unittest(unittest.TestCase):\n",
    "    @classmethod\n",
    "    def setUpClass(self) -> users:\n",
    "        self.user = users.user()\n",
    "\n",
    "    @classmethod\n",
    "    def tearDownClass(self) -> None:\n",
    "        del self.user\n",
    "        os.remove(os.path.join(os.getcwd(), 'budgeting.db'))\n",
    "        os.remove(os.path.join(os.getcwd(), 'transactions.db'))\n",
    "    \n",
    "    def setUp(self) -> None:\n",
    "        self.user.budget.add_from_lists(['food', 'clothing', 'school'], [300, 100, 200])\n",
    "        self.dec_1 = datetime.datetime(2023, 12, 1)\n",
    "        t1 = self.user.transactions.add_transaction('school', 15, name='books')\n",
    "        t2 = self.user.transactions.add_transaction('food',10, date=self.dec_1, name='lunch')\n",
    "        t3 = self.user.transactions.add_transaction('food', 20, date=self.dec_1, name='dinner')\n",
    "        t4 = self.user.transactions.add_transaction('clothing', 30, name='shirt')\n",
    "        self.date = datetime.datetime.now()\n",
    "    \n",
    "    def tearDown(self) -> None:\n",
    "        self.user.budget.query('DELETE FROM budget')\n",
    "        self.user.transactions.query('DELETE FROM transactions')\n",
    "    \n",
    "    def test_total(self):\n",
    "        self.assertEqual(self.user.total(), )\n",
    "        self.assertEqual(self.user.total(categories = \"food\"), 15)\n",
    "        self.assertEqual(self.user.total(months=12), 50)\n",
    "        self.assertEqual(self.user.total(years=2023), 100)\n",
    "    \n",
    "    def test_average(self): \n",
    "        self.assertEqual(self.user.average(), 24)\n",
    "        self.assertEqual(self.user.average(categories = \"food\"), 12.5)\n",
    "        self.assertEqual(self.user.average(categories = \"grocery\"), 35)\n",
    "        self.assertEqual(self.user.average(type = \"budget\"), 228.57)\n",
    "\n",
    "unittest.main(argv =[''], verbosity=2, exit=False)"
   ]
  }
 ],
 "metadata": {
  "kernelspec": {
   "display_name": "base",
   "language": "python",
   "name": "python3"
  },
  "language_info": {
   "codemirror_mode": {
    "name": "ipython",
    "version": 3
   },
   "file_extension": ".py",
   "mimetype": "text/x-python",
   "name": "python",
   "nbconvert_exporter": "python",
   "pygments_lexer": "ipython3",
   "version": "3.12.0"
  }
 },
 "nbformat": 4,
 "nbformat_minor": 2
}
