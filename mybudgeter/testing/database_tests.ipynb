{
 "cells": [
  {
   "cell_type": "code",
   "execution_count": 8,
   "metadata": {},
   "outputs": [],
   "source": [
    "import sys\n",
    "import unittest\n",
    "import os\n",
    "import datetime\n",
    "\n",
    "sys.path.append('/Users/jacobrosen/Desktop/UBC/Courses/533 - Collaborative Software Dev/Data-533-Group-16-project/mybudgeter')\n",
    "from database.budget import Budget\n",
    "from database.transactions import Transactions"
   ]
  },
  {
   "cell_type": "code",
   "execution_count": 21,
   "metadata": {},
   "outputs": [
    {
     "name": "stderr",
     "output_type": "stream",
     "text": [
      "test_add_category (__main__.TestBudget) ... ok\n",
      "test_check (__main__.TestBudget) ... ok\n",
      "test_delete (__main__.TestBudget) ... ok\n",
      "test_get_categories (__main__.TestBudget) ... ok\n",
      "test_modify (__main__.TestBudget) ... ok\n",
      "\n",
      "----------------------------------------------------------------------\n",
      "Ran 5 tests in 0.089s\n",
      "\n",
      "OK\n"
     ]
    },
    {
     "data": {
      "text/plain": [
       "<unittest.main.TestProgram at 0x1067a8100>"
      ]
     },
     "execution_count": 21,
     "metadata": {},
     "output_type": "execute_result"
    }
   ],
   "source": [
    "class TestBudget (unittest.TestCase):\n",
    "    @classmethod\n",
    "    def setUpClass(self):\n",
    "        # sets up a new db in cwd \n",
    "        self.budget = Budget()\n",
    "\n",
    "    @classmethod\n",
    "    def tearDownClass(self):\n",
    "        # disconnect from db and remove it from directory \n",
    "        del self.budget\n",
    "        os.remove(os.path.join(os.getcwd(), 'budgeting.db'))\n",
    "\n",
    "    def setUp(self):\n",
    "        # initialize table with two values in it to test with\n",
    "        self.budget.add_from_lists(['food', 'clothing'], [300, 100])\n",
    "        self.date = datetime.datetime.now()\n",
    "\n",
    "    def tearDown(self):\n",
    "        # clear the table to start fresh\n",
    "        self.budget.query('delete from budget')\n",
    "\n",
    "    # test add_category\n",
    "    def test_add_category(self):\n",
    "        self.budget.add_category('school')\n",
    "        self.assertIn(('school', self.date.month, self.date.year, 0), self.budget.check_budget())\n",
    "        self.budget.add_category('health', 150)\n",
    "        self.assertIn(('health', self.date.month, self.date.year, 150), self.budget.check_budget())\n",
    "        last_month = self.date.replace(month = self.date.month-1)\n",
    "        self.budget.add_category('health', 100, last_month)\n",
    "        self.assertIn(('health', last_month.month, last_month.year, 100), self.budget.check_budget(last_month.month, last_month.year))\n",
    "\n",
    "    # test modify category\n",
    "    def test_modify(self):\n",
    "        self.budget.modify_category('food', 120, self.date.month, self.date.year)\n",
    "        self.assertIn(('food', self.date.month, self.date.year, 120), self.budget.check_budget())\n",
    "        self.budget.modify_category('clothing', 300, self.date.month, self.date.year)\n",
    "        self.assertIn(('clothing', self.date.month, self.date.year, 300), self.budget.check_budget())\n",
    "\n",
    "    # test delete\n",
    "    def test_delete(self):\n",
    "        self.budget.delete_category('food', self.date.month, self.date.year)\n",
    "        self.assertNotIn(('food', self.date.month, self.date.year, 300), self.budget.check_budget())\n",
    "        self.budget.delete_category('clothing', self.date.month, self.date.year)\n",
    "        self.assertNotIn(('clothing', self.date.month, self.date.year, 100), self.budget.check_budget())\n",
    "\n",
    "    # test check\n",
    "    def test_check(self):\n",
    "        self.assertEqual(self.budget.check_budget(), [('food', self.date.month, self.date.year, 300), ('clothing', self.date.month, self.date.year, 100)])\n",
    "        self.assertEqual(self.budget.check_budget(year=1999), [])\n",
    "        self.budget.add_category('test', 100, datetime.datetime(1999, 5, 17))\n",
    "        self.assertEqual(self.budget.check_budget(5, 1999), [('test', 5, 1999, 100)])\n",
    "        \n",
    "    # test get\n",
    "    def test_get_categories(self):\n",
    "        self.assertEqual(self.budget.get_categories(), ['clothing', 'food'])\n",
    "        self.budget.add_category('test')\n",
    "        self.assertEqual(self.budget.get_categories(), ['clothing', 'food', 'test'])\n",
    "        self.budget.modify_category('test', 10, self.date.month, self.date.year)\n",
    "        self.assertEqual(self.budget.get_categories(), ['clothing', 'food', 'test'])\n",
    "        self.budget.delete_category('food', self.date.month, self.date.year)\n",
    "        self.assertEqual(self.budget.get_categories(), ['clothing', 'test'])\n",
    "\n",
    "unittest.main(argv=[''], verbosity=2, exit=False)"
   ]
  },
  {
   "cell_type": "code",
   "execution_count": null,
   "metadata": {},
   "outputs": [],
   "source": []
  }
 ],
 "metadata": {
  "kernelspec": {
   "display_name": "ubc",
   "language": "python",
   "name": "python3"
  },
  "language_info": {
   "codemirror_mode": {
    "name": "ipython",
    "version": 3
   },
   "file_extension": ".py",
   "mimetype": "text/x-python",
   "name": "python",
   "nbconvert_exporter": "python",
   "pygments_lexer": "ipython3",
   "version": "3.9.18"
  }
 },
 "nbformat": 4,
 "nbformat_minor": 2
}
