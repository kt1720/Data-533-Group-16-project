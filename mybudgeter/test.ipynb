{
 "cells": [
  {
   "cell_type": "code",
   "execution_count": 57,
   "metadata": {},
   "outputs": [
    {
     "name": "stdout",
     "output_type": "stream",
     "text": [
      "100\n",
      "200\n",
      "55\n",
      "55\n",
      "30\n",
      "400\n",
      "25\n",
      "70\n",
      "12.5\n",
      "18.333333333333332\n",
      "133.33333333333334\n"
     ]
    }
   ],
   "source": [
    "from utilities import calculations\n",
    "%reload_ext autoreload\n",
    "%autoreload 2\n",
    "cal = calculations.calculator('budgeting.db', 'transactions.db')\n",
    "print(cal.total(categories=[\"school\"], type=\"budget\"))\n",
    "print(cal.total(categories=[\"food\"], type=\"budget\"))\n",
    "print(cal.total(year = 2023))\n",
    "print(cal.total(month = 11))\n",
    "print(cal.total(categories = \"shopping\"))\n",
    "print(cal.total(type=\"budget\"))\n",
    "print(cal.total(categories=\"food\", month=11, year=2023))\n",
    "\n",
    "print(cal.remaining_budget(categories=\"shopping\"))\n",
    "\n",
    "print(cal.average(categories=\"food\"))\n",
    "print(cal.average(month=11))\n",
    "print(cal.average(type=\"budget\"))\n"
   ]
  },
  {
   "cell_type": "code",
   "execution_count": 13,
   "metadata": {},
   "outputs": [
    {
     "name": "stdout",
     "output_type": "stream",
     "text": [
      "('food', 11, 2023, 200)\n",
      "('school', 11, 2023, 100)\n",
      "('shopping', 11, 2023, 100)\n",
      "(1, '2023-11-28', 'lunch', 'food', 10)\n",
      "(2, '2023-11-28', 'dinner', 'food', 15)\n",
      "(3, '2023-11-28', 'shirt', 'shopping', 30)\n"
     ]
    }
   ],
   "source": [
    "import os\n",
    "import sqlite3\n",
    "\n",
    "categories = ['food']\n",
    "month = 11\n",
    "year = 2023\n",
    "\n",
    "# Connect to the SQLite database\n",
    "connection_budget = sqlite3.connect('budgeting.db')\n",
    "connection_transactions = sqlite3.connect('transactions.db')\n",
    "# Create a cursor object to interact with the database\n",
    "cursor_bg = connection_budget.cursor()\n",
    "cursor_ts = connection_transactions.cursor()\n",
    "# Execute a query to fetch table names\n",
    "cursor_bg.execute(\"SELECT * FROM budget;\")\n",
    "# query = f\"SELECT SUM(amount) FROM transactions WHERE category IN ({', '.join('?' for _ in categories)}) AND strftime('%m', trans_date) = ? AND strftime('%Y', trans_date) = ?\"\n",
    "# cursor_ts.execute(query, categories + [str(month).zfill(2), str(year)])\n",
    "cursor_ts.execute(\"SELECT * FROM transactions;\")\n",
    "# Fetch all the table names from the result set\n",
    "rows_bg = cursor_bg.fetchall()\n",
    "rows_ts = cursor_ts.fetchall()\n",
    "# Print the table names\n",
    "# total_budget = cursor_bg.fetchone()[0]\n",
    "# print(total_budget)\n",
    "for row in rows_bg:\n",
    "    print(row)\n",
    "for row in rows_ts:\n",
    "    print(row)\n",
    "# total_spending = cursor_ts.fetchone()[0]\n",
    "# print(total_spending)\n",
    "# Close the cursor and the connection\n",
    "cursor_bg.close()\n",
    "cursor_ts.close()\n",
    "connection_budget.close()\n",
    "connection_transactions.close()"
   ]
  }
 ],
 "metadata": {
  "kernelspec": {
   "display_name": "base",
   "language": "python",
   "name": "python3"
  },
  "language_info": {
   "codemirror_mode": {
    "name": "ipython",
    "version": 3
   },
   "file_extension": ".py",
   "mimetype": "text/x-python",
   "name": "python",
   "nbconvert_exporter": "python",
   "pygments_lexer": "ipython3",
   "version": "3.12.0"
  }
 },
 "nbformat": 4,
 "nbformat_minor": 2
}
