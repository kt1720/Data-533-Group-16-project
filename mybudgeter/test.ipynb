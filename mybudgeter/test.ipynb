{
 "cells": [
  {
   "cell_type": "code",
   "execution_count": 69,
   "metadata": {},
   "outputs": [
    {
     "name": "stdout",
     "output_type": "stream",
     "text": [
      "50\n",
      "80\n",
      "400\n",
      "200\n",
      "400\n",
      "320\n",
      "185\n",
      "150\n",
      "12.5\n",
      "22.5\n",
      "133.33333333333334\n",
      "133.33333333333334\n",
      "Highest spending category is food: 50.00\n",
      "near \"(\": syntax error\n",
      "Lowest spending category is shopping: 30.00\n",
      "near \"(\": syntax error\n"
     ]
    },
    {
     "data": {
      "text/plain": [
       "'No data found.'"
      ]
     },
     "execution_count": 69,
     "metadata": {},
     "output_type": "execute_result"
    }
   ],
   "source": [
    "from utilities import users\n",
    "from utilities.helper import build_query, spending_query\n",
    "%reload_ext autoreload\n",
    "%autoreload 2\n",
    "# cal = calculations.calculator('budgeting.db', 'transactions.db')\n",
    "# print(cal.total(categories=\"school\", type=\"budget\"))\n",
    "# print(cal.total(categories=\"food\", type=\"budget\"))\n",
    "# print(cal.total(years = 2023))\n",
    "# print(cal.total(months = 11))\n",
    "# print(cal.total(categories = [\"shopping\", \"food\"]))\n",
    "# print(cal.total(type=\"budget\"))\n",
    "# print(cal.total(categories=\"food\", months=11, years=2023))\n",
    "\n",
    "# print(cal.remaining_budget(categories=\"shopping\"))\n",
    "# print(cal.remaining_budget())\n",
    "\n",
    "# print(cal.average(categories=\"food\"))\n",
    "# print(cal.average(months=11))\n",
    "# print(cal.average(type=\"budget\"))\n",
    "\n",
    "# print(cal.highest_spending())\n",
    "# print(cal.highest_spending(calculate_category=False))\n",
    "# print(cal.lowest_spending())\n",
    "# print(cal.lowest_spending(calculate_category=False))\n",
    "user = users.User(budget = 'budgeting.db', transactions = \"transactions.db\")\n",
    "print(user.total(categories = \"food\"))\n",
    "print(user.total())\n",
    "print(user.total(type=\"budget\"))\n",
    "print(user.total(type=\"budget\", categories=\"food\"))\n",
    "print(user.total(type=\"budget\", years=2023))\n",
    "\n",
    "print(user.remaining_budget())\n",
    "print(user.remaining_budget(categories=\"food\", month=11))\n",
    "print(user.remaining_budget(categories=\"food\"))\n",
    "\n",
    "print(user.average(categories=\"food\"))\n",
    "print(user.average(months=11))\n",
    "print(user.average(type=\"budget\", months=11))\n",
    "print(user.average(type=\"budget\", years=2023))\n",
    "\n",
    "user.highest_spending()\n",
    "user.highest_spending(False)\n",
    "user.lowest_spending()\n",
    "user.lowest_spending(False)\n",
    "\n"
   ]
  },
  {
   "cell_type": "code",
   "execution_count": 51,
   "metadata": {},
   "outputs": [
    {
     "name": "stdout",
     "output_type": "stream",
     "text": [
      "('food', 11, 2023, 200)\n",
      "('school', 11, 2023, 100)\n",
      "('shopping', 11, 2023, 100)\n",
      "(2, '2023-11-28', 'dinner', 'food', 15)\n",
      "(3, '2023-11-28', 'shirt', 'shopping', 30)\n",
      "(4, '2023-12-01', 'lunch', 'food', 10)\n",
      "(5, '2023-12-01', 'lunch', 'food', 11)\n",
      "(6, '2023-12-01', 'lunch', 'food', 14)\n"
     ]
    }
   ],
   "source": [
    "import os\n",
    "import sqlite3\n",
    "\n",
    "categories = ['food']\n",
    "month = 11\n",
    "year = 2023\n",
    "\n",
    "# Connect to the SQLite database\n",
    "connection_budget = sqlite3.connect('budgeting.db')\n",
    "connection_transactions = sqlite3.connect('transactions.db')\n",
    "# Create a cursor object to interact with the database\n",
    "cursor_bg = connection_budget.cursor()\n",
    "cursor_ts = connection_transactions.cursor()\n",
    "# Execute a query to fetch table names\n",
    "cursor_bg.execute(\"SELECT * FROM budget;\")\n",
    "# query = f\"SELECT SUM(amount) FROM transactions WHERE category IN ({', '.join('?' for _ in categories)}) AND strftime('%m', trans_date) = ? AND strftime('%Y', trans_date) = ?\"\n",
    "# cursor_ts.execute(query, categories + [str(month).zfill(2), str(year)])\n",
    "# cursor_ts.execute(\"SELECT category, SUM(amount) FROM transactions GROUP BY category ORDER BY SUM(amount) DESC;\")\n",
    "cursor_ts.execute(\"SELECT * FROM transactions;\")\n",
    "# Fetch all the table names from the result set\n",
    "rows_bg = cursor_bg.fetchall()\n",
    "rows_ts = cursor_ts.fetchall()\n",
    "# Print the table names\n",
    "# total_budget = cursor_bg.fetchone()[0]\n",
    "# print(total_budget)\n",
    "for row in rows_bg:\n",
    "    print(row)\n",
    "for row in rows_ts:\n",
    "    print(row)\n",
    "# total_spending = cursor_ts.fetchone()[0]\n",
    "# print(total_spending)\n",
    "# Close the cursor and the connection\n",
    "cursor_bg.close()\n",
    "cursor_ts.close()\n",
    "connection_budget.close()\n",
    "connection_transactions.close()"
   ]
  }
 ],
 "metadata": {
  "kernelspec": {
   "display_name": "base",
   "language": "python",
   "name": "python3"
  },
  "language_info": {
   "codemirror_mode": {
    "name": "ipython",
    "version": 3
   },
   "file_extension": ".py",
   "mimetype": "text/x-python",
   "name": "python",
   "nbconvert_exporter": "python",
   "pygments_lexer": "ipython3",
   "version": "3.12.0"
  }
 },
 "nbformat": 4,
 "nbformat_minor": 2
}
