{
 "cells": [
  {
   "cell_type": "code",
   "execution_count": 1,
   "metadata": {},
   "outputs": [],
   "source": [
    "import os\n",
    "from records.budget import Budget\n",
    "db = os.path.join(os.getcwd(), 'budgeting.db')\n",
    "b = Budget(os.getcwd(), db=db)\n",
    "b.add_from_lists(['food', 'school', 'shopping'], [200, 100, 100])\n"
   ]
  },
  {
   "cell_type": "code",
   "execution_count": 5,
   "metadata": {},
   "outputs": [],
   "source": [
    "from records.transactions import Transactions\n",
    "import os\n",
    "\n",
    "t = Transactions(os.getcwd())\n"
   ]
  },
  {
   "cell_type": "code",
   "execution_count": 1,
   "metadata": {},
   "outputs": [],
   "source": [
    "from records.transactions import Transactions\n",
    "import os\n",
    "t = Transactions(os.getcwd(), 'transactions.db')"
   ]
  },
  {
   "cell_type": "code",
   "execution_count": 10,
   "metadata": {},
   "outputs": [
    {
     "data": {
      "text/plain": [
       "[(2, '2023-11-28', 'dinner', 'food', 15),\n",
       " (3, '2023-11-28', 'shirt', 'shopping', 30),\n",
       " (4, '2023-12-01', 'lunch', 'food', 10)]"
      ]
     },
     "execution_count": 10,
     "metadata": {},
     "output_type": "execute_result"
    }
   ],
   "source": [
    "t.get_n_transactions(3)"
   ]
  },
  {
   "cell_type": "code",
   "execution_count": 6,
   "metadata": {},
   "outputs": [
    {
     "data": {
      "text/plain": [
       "3"
      ]
     },
     "execution_count": 6,
     "metadata": {},
     "output_type": "execute_result"
    }
   ],
   "source": [
    "t.add_transaction('food',10, name='lunch')\n",
    "t.add_transaction('food',15, name='dinner')\n",
    "t.add_transaction('shopping',30, name='shirt')"
   ]
  }
 ],
 "metadata": {
  "kernelspec": {
   "display_name": "ubc",
   "language": "python",
   "name": "python3"
  },
  "language_info": {
   "codemirror_mode": {
    "name": "ipython",
    "version": 3
   },
   "file_extension": ".py",
   "mimetype": "text/x-python",
   "name": "python",
   "nbconvert_exporter": "python",
   "pygments_lexer": "ipython3",
   "version": "3.12.0"
  }
 },
 "nbformat": 4,
 "nbformat_minor": 2
}
