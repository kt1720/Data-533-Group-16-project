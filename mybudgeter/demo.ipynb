{
 "cells": [
  {
   "cell_type": "code",
   "execution_count": 1,
   "metadata": {},
   "outputs": [
    {
     "name": "stdout",
     "output_type": "stream",
     "text": [
      "['food', 'school', 'shopping']\n"
     ]
    },
    {
     "data": {
      "text/plain": [
       "[('food', 11, 2023, 200),\n",
       " ('school', 11, 2023, 100),\n",
       " ('shopping', 11, 2023, 100)]"
      ]
     },
     "execution_count": 1,
     "metadata": {},
     "output_type": "execute_result"
    }
   ],
   "source": [
    "import os\n",
    "from database.budget import Budget\n",
    "db = os.path.join(os.getcwd(), 'budgeting.db')\n",
    "b = Budget(os.getcwd(), db=db)\n",
    "# b.add_from_lists(['food', 'school', 'shopping'], [200, 100, 100])\n",
    "print(b.get_categories())\n",
    "b.check_budget(11, 2023)\n"
   ]
  },
  {
   "cell_type": "code",
   "execution_count": 1,
   "metadata": {},
   "outputs": [
    {
     "name": "stdout",
     "output_type": "stream",
     "text": [
      "['food', 'shopping']\n"
     ]
    },
    {
     "data": {
      "text/plain": [
       "[(4, '2023-12-01', 'lunch', 'food', 10),\n",
       " (5, '2023-12-01', 'lunch', 'food', 11),\n",
       " (6, '2023-12-01', 'lunch', 'food', 14)]"
      ]
     },
     "execution_count": 1,
     "metadata": {},
     "output_type": "execute_result"
    }
   ],
   "source": [
    "from database.transactions import Transactions\n",
    "import os\n",
    "t = Transactions(os.getcwd(), 'transactions.db')\n",
    "print(t.get_categories())\n",
    "t.get_n_transactions(3)"
   ]
  },
  {
   "cell_type": "code",
   "execution_count": 6,
   "metadata": {},
   "outputs": [
    {
     "data": {
      "text/plain": [
       "3"
      ]
     },
     "execution_count": 6,
     "metadata": {},
     "output_type": "execute_result"
    }
   ],
   "source": [
    "t.add_transaction('food',10, name='lunch')\n",
    "t.add_transaction('food',15, name='dinner')\n",
    "t.add_transaction('shopping',30, name='shirt')"
   ]
  }
 ],
 "metadata": {
  "kernelspec": {
   "display_name": "ubc",
   "language": "python",
   "name": "python3"
  },
  "language_info": {
   "codemirror_mode": {
    "name": "ipython",
    "version": 3
   },
   "file_extension": ".py",
   "mimetype": "text/x-python",
   "name": "python",
   "nbconvert_exporter": "python",
   "pygments_lexer": "ipython3",
   "version": "3.9.18"
  }
 },
 "nbformat": 4,
 "nbformat_minor": 2
}
