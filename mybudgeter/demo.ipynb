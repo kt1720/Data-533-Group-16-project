{
 "cells": [
  {
   "cell_type": "code",
   "execution_count": 1,
   "metadata": {},
   "outputs": [
    {
     "name": "stdout",
     "output_type": "stream",
     "text": [
      "[('school', 12, 2023, 100)]\n",
      "[('school', 12, 2023, 100), ('food', 12, 2023, 150), ('clothing', 12, 2023, 100), ('entertainment', 12, 2023, 50)]\n",
      "[('school', 12, 2023, 55), ('food', 12, 2023, 150), ('clothing', 12, 2023, 100), ('entertainment', 12, 2023, 50)]\n",
      "['clothing', 'entertainment', 'food']\n"
     ]
    }
   ],
   "source": [
    "import os\n",
    "import datetime\n",
    "from database.budget import Budget\n",
    "from database.transactions import Transactions\n",
    "\n",
    "# create a new database\n",
    "budget = Budget()\n",
    "\n",
    "# add to the database\n",
    "budget.add_category('school', 100)\n",
    "print(budget.check_budget())\n",
    "\n",
    "# add lists to database\n",
    "budget.add_from_lists(['food', 'clothing', 'entertainment'], [150, 100, 50])\n",
    "print(budget.check_budget())\n",
    "\n",
    "# modify a category value\n",
    "budget.modify_category('school', 55, 12, 2023)\n",
    "print(budget.check_budget())\n",
    "\n",
    "# delete a category\n",
    "budget.delete_category('school', 12, 2023)\n",
    "print(budget.get_categories())\n",
    "\n",
    "# disconnect from the db\n",
    "del budget\n",
    "\n",
    "# reconnect to the db by passing file path as arg\n",
    "db = os.path.join(os.getcwd(), 'budgeting.db')\n",
    "budget = Budget(db=db)\n",
    "budget.check_budget(12, 2023)\n",
    "del budget\n"
   ]
  },
  {
   "cell_type": "code",
   "execution_count": 1,
   "metadata": {},
   "outputs": [
    {
     "name": "stdout",
     "output_type": "stream",
     "text": [
      "['food', 'shopping']\n"
     ]
    },
    {
     "data": {
      "text/plain": [
       "[(4, '2023-12-01', 'lunch', 'food', 10),\n",
       " (5, '2023-12-01', 'lunch', 'food', 11),\n",
       " (6, '2023-12-01', 'lunch', 'food', 14)]"
      ]
     },
     "execution_count": 1,
     "metadata": {},
     "output_type": "execute_result"
    }
   ],
   "source": [
    "from database.transactions import Transactions\n",
    "import os\n",
    "t = Transactions(os.getcwd(), 'transactions.db')\n",
    "print(t.get_categories())\n",
    "t.get_n_transactions(3)"
   ]
  },
  {
   "cell_type": "code",
   "execution_count": 6,
   "metadata": {},
   "outputs": [
    {
     "data": {
      "text/plain": [
       "3"
      ]
     },
     "execution_count": 6,
     "metadata": {},
     "output_type": "execute_result"
    }
   ],
   "source": [
    "t.add_transaction('food',10, name='lunch')\n",
    "t.add_transaction('food',15, name='dinner')\n",
    "t.add_transaction('shopping',30, name='shirt')"
   ]
  }
 ],
 "metadata": {
  "kernelspec": {
   "display_name": "ubc",
   "language": "python",
   "name": "python3"
  },
  "language_info": {
   "codemirror_mode": {
    "name": "ipython",
    "version": 3
   },
   "file_extension": ".py",
   "mimetype": "text/x-python",
   "name": "python",
   "nbconvert_exporter": "python",
   "pygments_lexer": "ipython3",
   "version": "3.9.18"
  }
 },
 "nbformat": 4,
 "nbformat_minor": 2
}
