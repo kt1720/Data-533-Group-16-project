{
 "cells": [
  {
   "cell_type": "code",
   "execution_count": 1,
   "metadata": {},
   "outputs": [],
   "source": [
    "import os\n",
    "import datetime\n",
    "from database.budget import Budget\n",
    "from database.transactions import Transactions"
   ]
  },
  {
   "cell_type": "markdown",
   "metadata": {},
   "source": [
    "# Budget Demo"
   ]
  },
  {
   "cell_type": "code",
   "execution_count": 2,
   "metadata": {},
   "outputs": [],
   "source": [
    "# create a new database\n",
    "budget = Budget()"
   ]
  },
  {
   "cell_type": "code",
   "execution_count": 3,
   "metadata": {},
   "outputs": [
    {
     "name": "stdout",
     "output_type": "stream",
     "text": [
      "[('school', 12, 2023, 100)]\n"
     ]
    }
   ],
   "source": [
    "# add to the database\n",
    "budget.add_category('school', 100)\n",
    "print(budget.check_budget())"
   ]
  },
  {
   "cell_type": "code",
   "execution_count": 4,
   "metadata": {},
   "outputs": [
    {
     "name": "stdout",
     "output_type": "stream",
     "text": [
      "[('school', 12, 2023, 100), ('food', 12, 2023, 150), ('clothing', 12, 2023, 100), ('entertainment', 12, 2023, 50)]\n"
     ]
    }
   ],
   "source": [
    "# add lists to database\n",
    "budget.add_from_lists(['food', 'clothing', 'entertainment'], [150, 100, 50])\n",
    "print(budget.check_budget())"
   ]
  },
  {
   "cell_type": "code",
   "execution_count": 5,
   "metadata": {},
   "outputs": [
    {
     "name": "stdout",
     "output_type": "stream",
     "text": [
      "[('school', 12, 2023, 55), ('food', 12, 2023, 150), ('clothing', 12, 2023, 100), ('entertainment', 12, 2023, 50)]\n"
     ]
    }
   ],
   "source": [
    "# modify a category value\n",
    "budget.modify_category('school', 55, 12, 2023)\n",
    "print(budget.check_budget())"
   ]
  },
  {
   "cell_type": "code",
   "execution_count": 6,
   "metadata": {},
   "outputs": [
    {
     "name": "stdout",
     "output_type": "stream",
     "text": [
      "['clothing', 'entertainment', 'food']\n"
     ]
    }
   ],
   "source": [
    "# delete a category\n",
    "budget.delete_category('school', 12, 2023)\n",
    "print(budget.get_categories())"
   ]
  },
  {
   "cell_type": "code",
   "execution_count": 7,
   "metadata": {},
   "outputs": [],
   "source": [
    "# disconnect from the db\n",
    "del budget"
   ]
  },
  {
   "cell_type": "code",
   "execution_count": 15,
   "metadata": {},
   "outputs": [
    {
     "name": "stdout",
     "output_type": "stream",
     "text": [
      "[('food', 12, 2023, 150), ('clothing', 12, 2023, 100), ('entertainment', 12, 2023, 50)]\n"
     ]
    }
   ],
   "source": [
    "# reconnect to the db by passing file path as arg\n",
    "db = os.path.join(os.getcwd(), 'budgeting.db')\n",
    "budget = Budget(db=db)\n",
    "print(budget.check_budget(12, 2023))\n",
    "del budget"
   ]
  },
  {
   "cell_type": "markdown",
   "metadata": {},
   "source": [
    "# Transaction Demo"
   ]
  },
  {
   "cell_type": "code",
   "execution_count": 9,
   "metadata": {},
   "outputs": [],
   "source": [
    "# create a new database\n",
    "trans = Transactions()"
   ]
  },
  {
   "cell_type": "code",
   "execution_count": 10,
   "metadata": {},
   "outputs": [
    {
     "name": "stdout",
     "output_type": "stream",
     "text": [
      "[(1, '2023-12-03', 'books', 'school', 15), (4, '2023-12-03', 'shirt', 'clothing', 30), (2, '2023-12-01', 'lunch', 'food', 10), (3, '2023-12-01', 'dinner', 'food', 15)]\n"
     ]
    }
   ],
   "source": [
    "# add to the database, store the transaction ids for later use\n",
    "dec_1 = datetime.datetime(2023, 12, 1)\n",
    "t1 = trans.add_transaction('school', 15, name='books')\n",
    "t2 = trans.add_transaction('food',10, date=dec_1, name='lunch')\n",
    "t3 = trans.add_transaction('food', 15, date=dec_1, name='dinner')\n",
    "t4 = trans.add_transaction('clothing', 30, name='shirt')\n",
    "print(trans.get_n_transactions(4))"
   ]
  },
  {
   "cell_type": "code",
   "execution_count": 11,
   "metadata": {},
   "outputs": [
    {
     "name": "stdout",
     "output_type": "stream",
     "text": [
      "[(4, '2023-12-2', 'shirt', 'shopping', 30), (1, '2023-12-03', 'books', 'school', 10), (2, '2023-12-01', 'lunch', 'food', 10), (3, '2023-12-01', 'dinner', 'food', 15)]\n"
     ]
    }
   ],
   "source": [
    "# modify a transaction\n",
    "trans.modify_transaction(t1, 'amount', 10) # change the amount\n",
    "trans.modify_transaction(t4, 'trans_date', '2023-12-2') # change the transaction date to dec2\n",
    "trans.modify_transaction(t4, 'category', 'shopping') # change the category to shopping\n",
    "print(trans.get_n_transactions(4))"
   ]
  },
  {
   "cell_type": "code",
   "execution_count": 12,
   "metadata": {},
   "outputs": [
    {
     "name": "stdout",
     "output_type": "stream",
     "text": [
      "[(4, '2023-12-2', 'shirt', 'shopping', 30), (1, '2023-12-03', 'books', 'school', 10), (3, '2023-12-01', 'dinner', 'food', 15)]\n"
     ]
    }
   ],
   "source": [
    "# delete a transaction\n",
    "trans.delete_transaction(t2)\n",
    "print(trans.get_n_transactions(4))"
   ]
  },
  {
   "cell_type": "code",
   "execution_count": 13,
   "metadata": {},
   "outputs": [],
   "source": [
    "# disconnect from the db\n",
    "del trans"
   ]
  },
  {
   "cell_type": "code",
   "execution_count": 14,
   "metadata": {},
   "outputs": [
    {
     "name": "stdout",
     "output_type": "stream",
     "text": [
      "['school', 'food', 'shopping']\n",
      "[(4, '2023-12-2', 'shirt', 'shopping', 30), (3, '2023-12-01', 'dinner', 'food', 15), (1, '2023-12-03', 'books', 'school', 10)]\n"
     ]
    }
   ],
   "source": [
    "# reconnect to the db by passing file path as arg\n",
    "db = os.path.join(os.getcwd(), 'transactions.db')\n",
    "trans = Transactions(db=db)\n",
    "print(trans.get_categories())\n",
    "print(trans.get_n_transactions(4, 'amount'))\n",
    "del trans"
   ]
  }
 ],
 "metadata": {
  "kernelspec": {
   "display_name": "ubc",
   "language": "python",
   "name": "python3"
  },
  "language_info": {
   "codemirror_mode": {
    "name": "ipython",
    "version": 3
   },
   "file_extension": ".py",
   "mimetype": "text/x-python",
   "name": "python",
   "nbconvert_exporter": "python",
   "pygments_lexer": "ipython3",
   "version": "3.9.18"
  }
 },
 "nbformat": 4,
 "nbformat_minor": 2
}
