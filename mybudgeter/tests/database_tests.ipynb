{
 "cells": [
  {
   "cell_type": "code",
   "execution_count": 2,
   "metadata": {},
   "outputs": [],
   "source": [
    "import sys\n",
    "import unittest\n",
    "import os\n",
    "import datetime\n",
    "\n",
    "sys.path.append('/Users/jacobrosen/Desktop/UBC/Courses/533 - Collaborative Software Dev/Data-533-Group-16-project/mybudgeter')\n",
    "from database.budget import Budget\n",
    "from database.transactions import Transactions"
   ]
  },
  {
   "cell_type": "code",
   "execution_count": 4,
   "metadata": {},
   "outputs": [
    {
     "name": "stderr",
     "output_type": "stream",
     "text": [
      "test_add_category (__main__.TestBudget) ... "
     ]
    },
    {
     "name": "stderr",
     "output_type": "stream",
     "text": [
      "ok\n",
      "test_check (__main__.TestBudget) ... ok\n",
      "test_delete (__main__.TestBudget) ... ok\n",
      "test_get_categories (__main__.TestBudget) ... ok\n",
      "test_modify (__main__.TestBudget) ... ok\n",
      "\n",
      "----------------------------------------------------------------------\n",
      "Ran 5 tests in 0.102s\n",
      "\n",
      "OK\n"
     ]
    },
    {
     "data": {
      "text/plain": [
       "<unittest.main.TestProgram at 0x111739940>"
      ]
     },
     "execution_count": 4,
     "metadata": {},
     "output_type": "execute_result"
    }
   ],
   "source": [
    "class TestBudget (unittest.TestCase):\n",
    "    @classmethod\n",
    "    def setUpClass(self):\n",
    "        # sets up a new db in cwd \n",
    "        self.budget = Budget()\n",
    "\n",
    "    @classmethod\n",
    "    def tearDownClass(self):\n",
    "        # disconnect from db and remove it from directory \n",
    "        del self.budget\n",
    "        os.remove(os.path.join(os.getcwd(), 'budgeting.db'))\n",
    "\n",
    "    def setUp(self):\n",
    "        # initialize table with two values in it to test with\n",
    "        self.budget.add_from_lists(['food', 'clothing'], [300, 100])\n",
    "        self.date = datetime.datetime.now()\n",
    "\n",
    "    def tearDown(self):\n",
    "        # clear the table to start fresh\n",
    "        self.budget.query('delete from budget')\n",
    "\n",
    "    # test add_category\n",
    "    def test_add_category(self):\n",
    "        self.budget.add_category('school')\n",
    "        self.assertIn(('school', self.date.month, self.date.year, 0), self.budget.check_budget())\n",
    "        self.budget.add_category('health', 150)\n",
    "        self.assertIn(('health', self.date.month, self.date.year, 150), self.budget.check_budget())\n",
    "        last_month = self.date.replace(month = self.date.month-1)\n",
    "        self.budget.add_category('health', 100, last_month)\n",
    "        self.assertIn(('health', last_month.month, last_month.year, 100), self.budget.check_budget(last_month.month, last_month.year))\n",
    "\n",
    "    # test modify category\n",
    "    def test_modify(self):\n",
    "        self.budget.modify_category('food', 120, self.date.month, self.date.year)\n",
    "        self.assertIn(('food', self.date.month, self.date.year, 120), self.budget.check_budget())\n",
    "        self.budget.modify_category('clothing', 300, self.date.month, self.date.year)\n",
    "        self.assertIn(('clothing', self.date.month, self.date.year, 300), self.budget.check_budget())\n",
    "\n",
    "    # test delete\n",
    "    def test_delete(self):\n",
    "        self.budget.delete_category('food', self.date.month, self.date.year)\n",
    "        self.assertNotIn(('food', self.date.month, self.date.year, 300), self.budget.check_budget())\n",
    "        self.budget.delete_category('clothing', self.date.month, self.date.year)\n",
    "        self.assertNotIn(('clothing', self.date.month, self.date.year, 100), self.budget.check_budget())\n",
    "\n",
    "    # test check\n",
    "    def test_check(self):\n",
    "        self.assertEqual(self.budget.check_budget(), [('food', self.date.month, self.date.year, 300), ('clothing', self.date.month, self.date.year, 100)])\n",
    "        self.assertEqual(self.budget.check_budget(year=1999), [])\n",
    "        self.budget.add_category('test', 100, datetime.datetime(1999, 5, 17))\n",
    "        self.assertEqual(self.budget.check_budget(5, 1999), [('test', 5, 1999, 100)])\n",
    "        \n",
    "    # test get\n",
    "    def test_get_categories(self):\n",
    "        self.assertEqual(self.budget.get_categories(), ['clothing', 'food'])\n",
    "        self.budget.add_category('test')\n",
    "        self.assertEqual(self.budget.get_categories(), ['clothing', 'food', 'test'])\n",
    "        self.budget.modify_category('test', 10, self.date.month, self.date.year)\n",
    "        self.assertEqual(self.budget.get_categories(), ['clothing', 'food', 'test'])\n",
    "        self.budget.delete_category('food', self.date.month, self.date.year)\n",
    "        self.assertEqual(self.budget.get_categories(), ['clothing', 'test'])\n",
    "\n",
    "unittest.main(argv=[''], verbosity=2, exit=False)"
   ]
  },
  {
   "cell_type": "code",
   "execution_count": 22,
   "metadata": {},
   "outputs": [],
   "source": [
    "from budget_test import TestBudget"
   ]
  },
  {
   "cell_type": "code",
   "execution_count": 5,
   "metadata": {},
   "outputs": [
    {
     "name": "stderr",
     "output_type": "stream",
     "text": [
      "test_add_category (__main__.TestBudget) ... ok\n",
      "test_check (__main__.TestBudget) ... ok\n",
      "test_delete (__main__.TestBudget) ... ok\n",
      "test_get_categories (__main__.TestBudget) ... ok\n",
      "test_modify (__main__.TestBudget) ... ok\n",
      "test_add_transaction (__main__.TestTransactions) ... ok\n",
      "test_delete_transaction (__main__.TestTransactions) ... ok\n",
      "test_get_n_transactions (__main__.TestTransactions) ... ok\n",
      "test_modify_transaction (__main__.TestTransactions) ... ok\n",
      "\n",
      "----------------------------------------------------------------------\n",
      "Ran 9 tests in 0.206s\n",
      "\n",
      "OK\n"
     ]
    },
    {
     "data": {
      "text/plain": [
       "<unittest.main.TestProgram at 0x113837eb0>"
      ]
     },
     "execution_count": 5,
     "metadata": {},
     "output_type": "execute_result"
    }
   ],
   "source": [
    "class TestTransactions(unittest.TestCase):\n",
    "    @classmethod\n",
    "    def setUpClass(self):\n",
    "        # sets up a new db in cwd \n",
    "        self.trans = Transactions()\n",
    "\n",
    "    @classmethod\n",
    "    def tearDownClass(self):\n",
    "        # disconnect from db and remove it from directory \n",
    "        del self.trans\n",
    "        os.remove(os.path.join(os.getcwd(), 'transactions.db'))\n",
    "\n",
    "    def setUp(self):\n",
    "        # initialize table with transactions in it to test with\n",
    "        self.dec_1 = datetime.datetime(2023, 12, 1)\n",
    "        t1 = self.trans.add_transaction('school', 15, name='books')\n",
    "        t2 = self.trans.add_transaction('food',10, date=self.dec_1, name='lunch')\n",
    "        t3 = self.trans.add_transaction('food', 20, date=self.dec_1, name='dinner')\n",
    "        t4 = self.trans.add_transaction('clothing', 30, name='shirt')\n",
    "        self.date = datetime.datetime.now()\n",
    "        self.trans_list = [t1, t2, t3, t4]\n",
    "\n",
    "    def tearDown(self):\n",
    "        # clear the table to start fresh\n",
    "        self.trans.query('delete from transactions')\n",
    "    \n",
    "    def test_add_transaction(self):\n",
    "        id1 = self.trans.add_transaction('food', 30)\n",
    "        self.assertIn((id1, self.date.strftime(\"%Y-%m-%d\"), None, 'food', 30), self.trans.get_n_transactions(5))\n",
    "        id2 = self.trans.add_transaction('school', 5, self.dec_1)\n",
    "        self.assertIn((id2, self.dec_1.strftime(\"%Y-%m-%d\"), None, 'school', 5), self.trans.get_n_transactions(6))\n",
    "        id3 = self.trans.add_transaction('test', 5, self.dec_1, 'testing a name')\n",
    "        self.assertIn((id3, self.dec_1.strftime(\"%Y-%m-%d\"), 'testing a name', 'test', 5), self.trans.get_n_transactions(7))\n",
    "\n",
    "    def test_modify_transaction(self):\n",
    "        self.trans.modify_transaction(self.trans_list[0], 'amount', 100)\n",
    "        self.assertIn((self.trans_list[0], self.date.strftime(\"%Y-%m-%d\"), 'books', 'school', 100), self.trans.get_n_transactions(4))\n",
    "        self.trans.modify_transaction(self.trans_list[3], 'trans_date', '2000-12-2')\n",
    "        self.assertIn((self.trans_list[3], '2000-12-2', 'shirt', 'clothing', 30), self.trans.get_n_transactions(4))\n",
    "        self.trans.modify_transaction(self.trans_list[1], 'category', 'shopping')\n",
    "        self.assertIn((self.trans_list[1], self.dec_1.strftime(\"%Y-%m-%d\"), 'lunch', 'shopping', 10), self.trans.get_n_transactions(4))\n",
    "        self.trans.modify_transaction(self.trans_list[2], 'name', 'breakfast')\n",
    "        self.assertIn((self.trans_list[2], self.dec_1.strftime(\"%Y-%m-%d\"), 'breakfast', 'food', 20), self.trans.get_n_transactions(4))\n",
    "\n",
    "    def test_delete_transaction(self):\n",
    "        self.trans.delete_transaction(self.trans_list[0])\n",
    "        self.assertNotIn((self.trans_list[0], self.date.strftime(\"%Y-%m-%d\"), 'books', 'school', 15), self.trans.get_n_transactions(4))\n",
    "        self.assertEqual(len(self.trans.get_n_transactions(4)), 3)\n",
    "        self.trans.delete_transaction(self.trans_list[3])\n",
    "        self.assertNotIn((self.trans_list[3], self.date.strftime(\"%Y-%m-%d\"), 'shirt', 'clothing', 30), self.trans.get_n_transactions(4))\n",
    "        self.assertEqual(len(self.trans.get_n_transactions(4)), 2)\n",
    "\n",
    "    def test_get_n_transactions(self):\n",
    "        self.assertEqual(self.trans.get_n_transactions(1), [(self.trans_list[0], self.date.strftime(\"%Y-%m-%d\"), 'books', 'school', 15)])\n",
    "        self.assertEqual(self.trans.get_n_transactions(1, asc=True), [(self.trans_list[1], self.dec_1.strftime(\"%Y-%m-%d\"), 'lunch', 'food', 10)])\n",
    "        list1 = [(self.trans_list[3], self.date.strftime(\"%Y-%m-%d\"), 'shirt', 'clothing', 30), (self.trans_list[2], self.dec_1.strftime(\"%Y-%m-%d\"), 'dinner', 'food', 20)]\n",
    "        self.assertEqual(self.trans.get_n_transactions(2, sort_field=\"amount\", asc=False), list1)\n",
    "\n",
    "unittest.main(argv=[''], verbosity=2, exit=False)"
   ]
  },
  {
   "cell_type": "code",
   "execution_count": 7,
   "metadata": {},
   "outputs": [
    {
     "name": "stderr",
     "output_type": "stream",
     "text": [
      ".........\n",
      "----------------------------------------------------------------------\n",
      "Ran 9 tests in 0.098s\n",
      "\n",
      "OK\n"
     ]
    },
    {
     "name": "stdout",
     "output_type": "stream",
     "text": [
      "<unittest.runner.TextTestResult run=9 errors=0 failures=0>\n"
     ]
    }
   ],
   "source": [
    "def my_suite(): \n",
    "\tsuite = unittest.TestSuite()\n",
    "\tresult = unittest.TestResult()\n",
    "\t# add tests for budget\n",
    "\t# suite.addTest(TestBudget('test_add_category'))\n",
    "\t# suite.addTest(TestBudget('test_modify'))\n",
    "\t# suite.addTest(TestBudget('test_delete'))\n",
    "\t# suite.addTest(TestBudget('test_check'))\n",
    "\t# suite.addTest(TestBudget('test_get_categories'))\n",
    "\tsuite.addTest(unittest.makeSuite(TestBudget))\n",
    "\n",
    "\t# add tests for transactions\n",
    "\t# suite.addTest(TestTransactions('test_add_transaction'))\n",
    "\t# suite.addTest(TestTransactions('test_modify_transaction'))\n",
    "\t# suite.addTest(TestTransactions('test_delete_transaction'))\n",
    "\t# suite.addTest(TestTransactions('test_get_n_transactions'))\n",
    "\tsuite.addTest(unittest.makeSuite(TestTransactions))\n",
    "\n",
    "\trunner = unittest.TextTestRunner() \n",
    "\tprint(runner.run(suite))\n",
    "\n",
    "my_suite() "
   ]
  }
 ],
 "metadata": {
  "kernelspec": {
   "display_name": "ubc",
   "language": "python",
   "name": "python3"
  },
  "language_info": {
   "codemirror_mode": {
    "name": "ipython",
    "version": 3
   },
   "file_extension": ".py",
   "mimetype": "text/x-python",
   "name": "python",
   "nbconvert_exporter": "python",
   "pygments_lexer": "ipython3",
   "version": "3.9.18"
  }
 },
 "nbformat": 4,
 "nbformat_minor": 2
}
