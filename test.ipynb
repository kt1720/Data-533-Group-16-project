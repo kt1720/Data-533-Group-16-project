{
 "cells": [
  {
   "cell_type": "code",
   "execution_count": 2,
   "metadata": {},
   "outputs": [
    {
     "data": {
      "text/plain": [
       "{'Clothing': 1, 'Food': 1, 'Groceries': 1}"
      ]
     },
     "execution_count": 2,
     "metadata": {},
     "output_type": "execute_result"
    }
   ],
   "source": [
    "category = [\"Clothing\", \"Food\", \"Groceries\"]\n",
    "spending = dict()\n",
    "for c in category:\n",
    "    spending[c] = 1\n",
    "spending"
   ]
  },
  {
   "cell_type": "code",
   "execution_count": 5,
   "metadata": {},
   "outputs": [
    {
     "name": "stdout",
     "output_type": "stream",
     "text": [
      "/Users/KyleDeng/Library/CloudStorage/OneDrive-UBC/MDS_Block3/DATA-533/Data-533-Group-16-project\n"
     ]
    }
   ],
   "source": [
    "import os\n",
    "print(os.getcwd())"
   ]
  },
  {
   "cell_type": "code",
   "execution_count": 26,
   "metadata": {},
   "outputs": [
    {
     "name": "stdout",
     "output_type": "stream",
     "text": [
      "400\n",
      "(1, '2023-11-28', 'lunch', 'food', 10)\n",
      "(2, '2023-11-28', 'dinner', 'food', 15)\n",
      "(3, '2023-11-28', 'shirt', 'shopping', 30)\n"
     ]
    }
   ],
   "source": [
    "import os\n",
    "import sqlite3\n",
    "\n",
    "categories = ['food']\n",
    "month = 11\n",
    "year = 2023\n",
    "\n",
    "# Connect to the SQLite database\n",
    "connection_budget = sqlite3.connect('/Users/KyleDeng/Library/CloudStorage/OneDrive-UBC/MDS_Block3/DATA-533/Data-533-Group-16-project/mybudgeter/budgeting.db')\n",
    "connection_transactions = sqlite3.connect('/Users/KyleDeng/Library/CloudStorage/OneDrive-UBC/MDS_Block3/DATA-533/Data-533-Group-16-project/mybudgeter/transactions.db')\n",
    "# Create a cursor object to interact with the database\n",
    "cursor_bg = connection_budget.cursor()\n",
    "cursor_ts = connection_transactions.cursor()\n",
    "# Execute a query to fetch table names\n",
    "cursor_bg.execute(\"SELECT SUM(amount) FROM budget;\")\n",
    "# query = f\"SELECT SUM(amount) FROM transactions WHERE category IN ({', '.join('?' for _ in categories)}) AND strftime('%m', trans_date) = ? AND strftime('%Y', trans_date) = ?\"\n",
    "# cursor_ts.execute(query, categories + [str(month).zfill(2), str(year)])\n",
    "cursor_ts.execute(\"SELECT * FROM transactions;\")\n",
    "# Fetch all the table names from the result set\n",
    "# rows_bg = cursor_bg.fetchall()\n",
    "rows_ts = cursor_ts.fetchall()\n",
    "# Print the table names\n",
    "total_budget = cursor_bg.fetchone()[0]\n",
    "print(total_budget)\n",
    "for row in rows_ts:\n",
    "    print(row)\n",
    "# total_spending = cursor_ts.fetchone()[0]\n",
    "# print(total_spending)\n",
    "# Close the cursor and the connection\n",
    "cursor_bg.close()\n",
    "cursor_ts.close()\n",
    "connection_budget.close()\n",
    "connection_transactions.close()"
   ]
  }
 ],
 "metadata": {
  "kernelspec": {
   "display_name": "base",
   "language": "python",
   "name": "python3"
  },
  "language_info": {
   "codemirror_mode": {
    "name": "ipython",
    "version": 3
   },
   "file_extension": ".py",
   "mimetype": "text/x-python",
   "name": "python",
   "nbconvert_exporter": "python",
   "pygments_lexer": "ipython3",
   "version": "3.12.0"
  }
 },
 "nbformat": 4,
 "nbformat_minor": 2
}
